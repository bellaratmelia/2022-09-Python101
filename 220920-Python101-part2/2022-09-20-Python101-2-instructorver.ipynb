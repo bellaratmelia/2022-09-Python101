{
 "cells": [
  {
   "cell_type": "markdown",
   "id": "88a163a3-0a1b-45aa-a1ac-2defcbc59dfe",
   "metadata": {},
   "source": [
    "# About this notebook\n",
    "\n",
    "This notebook is created by Bella Ratmelia (bellar@smu.edu.sg) for SMU Libraries' Python 101 Part 2 bite-sized workshop on 20 September 2022"
   ]
  },
  {
   "cell_type": "code",
   "execution_count": null,
   "id": "44f5b8ec-49e8-44c5-9cfb-8ddc79ae98a1",
   "metadata": {},
   "outputs": [],
   "source": [
    "# import the necessary packages\n",
    "import pandas as pd\n",
    "import seaborn as sns\n",
    "from scipy import stats"
   ]
  },
  {
   "cell_type": "markdown",
   "id": "04d240da-c843-4f37-8189-03a16e8e8456",
   "metadata": {
    "tags": []
   },
   "source": [
    "# Section 1: Dataframe 101\n",
    "- reading from csv\n",
    "- describe and info\n",
    "- rename columns\n",
    "- slicing data\n",
    "- filtering data, group by\n",
    "- counting values\n",
    "- simple plots\n",
    "- deriving new columns, dropping columns"
   ]
  },
  {
   "cell_type": "code",
   "execution_count": null,
   "id": "3a566146-daa1-4d0e-acb6-5c67615f2a52",
   "metadata": {},
   "outputs": [],
   "source": [
    "# reading from CSV\n",
    "# youth-survey.csv consists of responses from youths (15-30 years old) in Czech Republic \n",
    "data = pd.read_csv('youth-survey.csv')"
   ]
  },
  {
   "cell_type": "code",
   "execution_count": null,
   "id": "88c2bfa2-f7b8-4014-b97e-70b7761d279f",
   "metadata": {},
   "outputs": [],
   "source": [
    "data"
   ]
  },
  {
   "cell_type": "markdown",
   "id": "422bd304-a7aa-4e6f-a513-fd6b2e9af561",
   "metadata": {
    "tags": []
   },
   "source": [
    "## Retrieve basic info about the dataframe"
   ]
  },
  {
   "cell_type": "code",
   "execution_count": null,
   "id": "09c08c07-0838-4eee-ac9c-3362af79965e",
   "metadata": {},
   "outputs": [],
   "source": [
    "# Use the DataFrame.info() method to find out more about a dataframe.\n",
    "data.info()"
   ]
  },
  {
   "cell_type": "code",
   "execution_count": null,
   "id": "ba641fb7-b159-4430-a704-78b108eb80e1",
   "metadata": {},
   "outputs": [],
   "source": [
    "# The DataFrame.columns variable stores information about the dataframe’s columns.\n",
    "# This one doesn't have parentheses because it's not a function, but a \n",
    "# variable inside the dataframe object (member variable)\n",
    "\n",
    "data.columns"
   ]
  },
  {
   "cell_type": "code",
   "execution_count": null,
   "id": "ba581374-fe0a-4817-abcc-ba95d314acdc",
   "metadata": {},
   "outputs": [],
   "source": [
    "# quickly get the number of rows and columns of the dataframe\n",
    "\n",
    "data.shape"
   ]
  },
  {
   "cell_type": "code",
   "execution_count": null,
   "id": "4c6b3c5f-0081-482f-bff9-56a77dd0a555",
   "metadata": {},
   "outputs": [],
   "source": [
    "# DataFrame.describe() gets the summary statistics of the columns that have numerical data. \n",
    "# All other columns are ignored, unless you use the argument include='all'.\n",
    "\n",
    "data.describe()"
   ]
  },
  {
   "cell_type": "markdown",
   "id": "9c6e5ace-b0b3-4bdf-912d-6962c43dedec",
   "metadata": {
    "tags": []
   },
   "source": [
    "## Renaming columns"
   ]
  },
  {
   "cell_type": "code",
   "execution_count": null,
   "id": "0a341609-ec60-4709-a114-58393ddc7ed0",
   "metadata": {},
   "outputs": [],
   "source": [
    "# Sometimes column names need to be renamed to mae it easier for us\n",
    "# rename columns to be all lowercaps with no whitespace (replace whitespace with hyphen)\n",
    "# rename them to something more meaningful\n",
    "\n",
    "data.rename(columns = {\n",
    "    \"Energy levels\": \"energy-levels\",\n",
    "    \"Internet usage\": \"internet-usage\",\n",
    "    \"Loneliness\": \"loneliness\",\n",
    "    \"Assertiveness\": \"assertiveness\",\n",
    "    \"Workaholism\": \"workaholism\",\n",
    "    \"left - right\" : \"dominant-hand\",\n",
    "    \"Village - town\": \"locality\"\n",
    "}, inplace=True)\n"
   ]
  },
  {
   "cell_type": "code",
   "execution_count": null,
   "id": "9b076ca7-608f-4164-8337-df80e98cc871",
   "metadata": {},
   "outputs": [],
   "source": [
    "data.columns"
   ]
  },
  {
   "cell_type": "markdown",
   "id": "98049528-f6c5-4ec0-b1ca-582a2cab06b7",
   "metadata": {
    "tags": []
   },
   "source": [
    "## Selecting a subset of dataframe (\"slicing\")"
   ]
  },
  {
   "cell_type": "code",
   "execution_count": null,
   "id": "5d2dfac8-acce-4bb3-b757-9d06f1361328",
   "metadata": {},
   "outputs": [],
   "source": [
    "# Selecting a subset (\"slicing\") \n",
    "# get the age of participants\n",
    "data[\"age\"]"
   ]
  },
  {
   "cell_type": "code",
   "execution_count": null,
   "id": "4abbdbd7-0efd-4d80-af9c-0bc2e6fa0433",
   "metadata": {},
   "outputs": [],
   "source": [
    "# Describe just a column\n",
    "data[\"age\"].describe()"
   ]
  },
  {
   "cell_type": "code",
   "execution_count": null,
   "id": "88dda0be-ac94-4cb5-bce2-8f4035b70301",
   "metadata": {},
   "outputs": [],
   "source": [
    "# get the height and age of participants\n",
    "data[[\"height\", \"age\"]]"
   ]
  },
  {
   "cell_type": "code",
   "execution_count": null,
   "id": "a7a104a0-c763-4127-b0b8-8011c512adeb",
   "metadata": {},
   "outputs": [],
   "source": [
    "# Describe the two columns\n",
    "data[[\"height\", \"age\"]].describe()"
   ]
  },
  {
   "cell_type": "markdown",
   "id": "7e74413c-1ec8-4bc9-97b4-4e556a02a28f",
   "metadata": {
    "tags": []
   },
   "source": [
    "### Try Yourself: Get the loneliness, happiness, and energy-levels columns"
   ]
  },
  {
   "cell_type": "code",
   "execution_count": null,
   "id": "214c9355-ffb7-49bd-baf4-ad4a6f27dbb6",
   "metadata": {},
   "outputs": [],
   "source": [
    "# ANSWER\n",
    "columns = [\"loneliness\", \"happiness\", \"energy-levels\"]\n",
    "new_data = data[columns]\n",
    "\n",
    "new_data"
   ]
  },
  {
   "cell_type": "markdown",
   "id": "966c8db1-03d8-4091-8bca-dffabe98a76e",
   "metadata": {},
   "source": [
    "## Filtering the data to fit specified criteria"
   ]
  },
  {
   "cell_type": "code",
   "execution_count": null,
   "id": "2064e8b4-fb3b-45ee-9575-f085c3e0e12b",
   "metadata": {},
   "outputs": [],
   "source": [
    "# Filtering: Get all data from participants above 18 years old\n",
    "criteria = data[\"age\"] > 18\n",
    "data_above_18 = data[criteria]\n",
    "\n",
    "data_above_18.head(10)"
   ]
  },
  {
   "cell_type": "code",
   "execution_count": null,
   "id": "d463585e-ced7-4e71-b183-d822ce2dd8cb",
   "metadata": {},
   "outputs": [],
   "source": [
    "# Get data from Female participants above 18 years old\n",
    "criteria = (data[\"age\"] > 18) & (data[\"gender\"] == \"female\")\n",
    "data_female_18 = data[criteria]\n",
    "\n",
    "data_female_18.head(10)"
   ]
  },
  {
   "cell_type": "code",
   "execution_count": null,
   "id": "e5d30f76-73de-421b-ac54-817da01029bd",
   "metadata": {},
   "outputs": [],
   "source": [
    "# get participants that stated their age\n",
    "criteria = data[\"age\"].notna()\n",
    "data_age_known = data[criteria]\n",
    "\n",
    "data_age_known"
   ]
  },
  {
   "cell_type": "markdown",
   "id": "7a65b9e6-32bd-4acc-ad57-83a452881a86",
   "metadata": {},
   "source": [
    "### Try Yourself: Get data from people whose happiness ratings are >= 3 or loneliness rating <= 3"
   ]
  },
  {
   "cell_type": "code",
   "execution_count": null,
   "id": "5b1ac756-1104-4be2-a5c8-e0bd01da90c0",
   "metadata": {},
   "outputs": [],
   "source": [
    "# ANSWER\n",
    "# There are two criteria. Encapsulate each criteria with brackets\n",
    "# use \"|\" as the OR operator\n",
    "criteria = (data[\"happiness\"] >=3) | (data[\"loneliness\"] <= 3) \n",
    "new_data = data[criteria]\n",
    "\n",
    "new_data"
   ]
  },
  {
   "cell_type": "code",
   "execution_count": null,
   "id": "5e6c4b85-176d-4b81-8df5-b07ea277acdb",
   "metadata": {},
   "outputs": [],
   "source": [
    "# Even more granular filtering:\n",
    "# get the internet-usage information of city-dwelling participants\n",
    "\n",
    "# we can of course do it in two steps: filter the row based on the locality, and then slice the internet-usage column\n",
    "# using .loc, we can filter both criteria at one go\n",
    "criteria = (data[\"locality\"] == \"city\")\n",
    "city_dwellers_internet_usage = data.loc[criteria, \"internet-usage\"]\n",
    "\n",
    "city_dwellers_internet_usage"
   ]
  },
  {
   "cell_type": "code",
   "execution_count": null,
   "id": "a77237b0-c079-48d4-9ae3-db7ab2004be9",
   "metadata": {},
   "outputs": [],
   "source": [
    "# retrieve based on index number instead of column names or row values\n",
    "# retrieve the first 3 rows only\n",
    "data[6:11]"
   ]
  },
  {
   "cell_type": "code",
   "execution_count": null,
   "id": "c27e108c-3f1d-4a8e-af49-e1d3f0381524",
   "metadata": {},
   "outputs": [],
   "source": [
    "# retrieve \"lying\" values (2nd column) of row 5 to 10\n",
    "# use .iloc to perform this filtering+slicing in one go\n",
    "\n",
    "data.iloc[5:11, 1]"
   ]
  },
  {
   "cell_type": "markdown",
   "id": "4628b142-8ea8-48f3-b719-b17721b29b6c",
   "metadata": {},
   "source": [
    "### Try Yourself: Get the happiness and loneliness rating of participants with more than 1 siblings"
   ]
  },
  {
   "cell_type": "code",
   "execution_count": null,
   "id": "32b26c65-153e-4f11-aa39-aefa142981a9",
   "metadata": {},
   "outputs": [],
   "source": [
    "# ANSWER\n",
    "criteria = data[\"siblings\"] > 1\n",
    "columns = [\"happiness\", \"loneliness\"]\n",
    "\n",
    "new_data = data.loc[criteria, columns]\n",
    "\n",
    "new_data"
   ]
  },
  {
   "cell_type": "markdown",
   "id": "399c7bb8-aae8-4b6c-a5be-a1bd355718be",
   "metadata": {},
   "source": [
    "## Updating values"
   ]
  },
  {
   "cell_type": "code",
   "execution_count": null,
   "id": "4d63129e-1eb2-4e70-b452-7a054c69e838",
   "metadata": {},
   "outputs": [],
   "source": [
    "# we can also update the values in dataframe, especially for the empty ones\n",
    "# update the missing siblings value to 0\n",
    "# inplace = True so that the changes are applied to the dataframe itself\n",
    "\n",
    "data[\"siblings\"].fillna(0, inplace=True)\n",
    "data[\"siblings\"].describe()"
   ]
  },
  {
   "cell_type": "markdown",
   "id": "c552d30e-c1eb-4a9a-aeed-1e23db2a516f",
   "metadata": {},
   "source": [
    "### Try yourself: Update values\n",
    "* Update the missing values in gender to \"No Gender\"\n",
    "* Update the the values \"left handed\" to \"l\" and right handed to \"r\" (hint: you can use .loc for this!)"
   ]
  },
  {
   "cell_type": "code",
   "execution_count": null,
   "id": "39aec2c7-1358-4002-b2fc-8183bb81bccd",
   "metadata": {},
   "outputs": [],
   "source": [
    "# Answer for #1\n",
    "data[\"gender\"].fillna(\"No Gender\", inplace=True)\n",
    "data[\"gender\"].describe() # if you do the fillna correctly, the \"count\" value should be 1010"
   ]
  },
  {
   "cell_type": "code",
   "execution_count": null,
   "id": "7d220eff-7bb7-4951-9ca6-b29963a4527e",
   "metadata": {},
   "outputs": [],
   "source": [
    "# Answer for #2\n",
    "criteria_left = data[\"dominant-hand\"] == \"left handed\"\n",
    "data.loc[criteria_left, \"dominant-hand\"] = \"l\"\n",
    "\n",
    "criteria_right = data[\"dominant-hand\"] == \"right handed\"\n",
    "data.loc[criteria_right, \"dominant-hand\"] = \"r\"\n",
    "\n",
    "data[\"dominant-hand\"]"
   ]
  },
  {
   "cell_type": "markdown",
   "id": "413c9b87-e68b-45ad-b19c-80d639fb6542",
   "metadata": {},
   "source": [
    "## Counting and Sorting Values"
   ]
  },
  {
   "cell_type": "code",
   "execution_count": null,
   "id": "81a76026-bc0f-4e4a-8aac-01bdeb047ee9",
   "metadata": {},
   "outputs": [],
   "source": [
    "# Find out how many participants are female or male\n",
    "data[\"gender\"].value_counts()"
   ]
  },
  {
   "cell_type": "code",
   "execution_count": null,
   "id": "28b30650-73fa-4137-8aee-610b9113de9c",
   "metadata": {},
   "outputs": [],
   "source": [
    "# Find out how many participants are female or male from villages and towns\n",
    "data[[\"gender\", \"locality\"]].value_counts()"
   ]
  },
  {
   "cell_type": "code",
   "execution_count": null,
   "id": "25c584bf-686d-4319-aed3-f00792e3b199",
   "metadata": {},
   "outputs": [],
   "source": [
    "# sort the age of participants from youngest to oldest\n",
    "data.sort_values(by=\"age\", inplace=True)\n",
    "data.head(15)"
   ]
  },
  {
   "cell_type": "markdown",
   "id": "abd26a8b-2a9c-493a-8a8b-cc0fe815ed43",
   "metadata": {},
   "source": [
    "### Try Yourself: deal with NaN values and sorting\n",
    "* Include the NaN value when counting the number of female and male participants\n",
    "* Sort participants based on happiness rating, from highest to lowest"
   ]
  },
  {
   "cell_type": "code",
   "execution_count": null,
   "id": "085754c0-ba3c-49e3-9804-63e12ee81b12",
   "metadata": {},
   "outputs": [],
   "source": [
    "# Anser for #1\n",
    "data[\"gender\"].value_counts(dropna=False)"
   ]
  },
  {
   "cell_type": "code",
   "execution_count": null,
   "id": "b69fb2cb-35b7-449b-b358-5f050200d85b",
   "metadata": {},
   "outputs": [],
   "source": [
    "# Answer for #2\n",
    "data.sort_values(by=\"happiness\", inplace=True, ascending=False)\n",
    "data"
   ]
  },
  {
   "cell_type": "markdown",
   "id": "ac38702f-a110-4781-90e6-463ea59baf96",
   "metadata": {
    "tags": []
   },
   "source": [
    "## Creating new column based on other columns, dropping columns"
   ]
  },
  {
   "cell_type": "code",
   "execution_count": null,
   "id": "42acbe4e-e97d-4a4b-a7c3-c6df42dc8b8e",
   "metadata": {},
   "outputs": [],
   "source": [
    "# create a new column called \"height-in-m\", deriving from the \"height\" column\n",
    "data[\"height-in-m\"] = data[\"height\"] / 100\n",
    "\n",
    "data.head(10)"
   ]
  },
  {
   "cell_type": "code",
   "execution_count": null,
   "id": "f1b21934-5da1-4808-8fe5-052dd8abc056",
   "metadata": {},
   "outputs": [],
   "source": [
    "# drop a column\n",
    "data.drop(columns=[\"height-in-m\"], inplace=True)"
   ]
  },
  {
   "cell_type": "code",
   "execution_count": null,
   "id": "0e4d0236-a145-4805-a1bd-4551d7ca6e0b",
   "metadata": {},
   "outputs": [],
   "source": [
    "data.columns"
   ]
  },
  {
   "cell_type": "code",
   "execution_count": null,
   "id": "a27b9836-a26f-41a1-b2f6-2ac72c00dc0c",
   "metadata": {},
   "outputs": [],
   "source": [
    "data.to_csv(\"youth-survey-edited.csv\")"
   ]
  },
  {
   "cell_type": "markdown",
   "id": "bc0bfc9b-cf54-4e82-a74e-411a34bdb992",
   "metadata": {},
   "source": [
    "## Simple plots with Seaborn"
   ]
  },
  {
   "cell_type": "code",
   "execution_count": null,
   "id": "d5e323d1-c7f8-4d42-a85f-5e5e492e6a74",
   "metadata": {},
   "outputs": [],
   "source": [
    "sns.set_theme(style=\"ticks\", color_codes=True)\n",
    "\n",
    "# create a histogram for Energy Levels data\n",
    "sns.displot(data[\"energy-levels\"], discrete=True, shrink=.8)"
   ]
  },
  {
   "cell_type": "code",
   "execution_count": null,
   "id": "c0982ad4-7a77-46c3-873b-9d443e504de5",
   "metadata": {},
   "outputs": [],
   "source": [
    "# you can also create a scatterplot\n",
    "sns.stripplot(x=\"punctuality\", y=\"age\", data=data, hue=\"punctuality\")"
   ]
  },
  {
   "cell_type": "code",
   "execution_count": null,
   "id": "5638d964-188e-418b-a6c3-12e688df3ace",
   "metadata": {},
   "outputs": [],
   "source": [
    "sns.lmplot(x=\"age\", y=\"happiness\", data=data);"
   ]
  },
  {
   "cell_type": "code",
   "execution_count": null,
   "id": "201f6f68-bc09-4798-8580-11d8c6b6bb88",
   "metadata": {},
   "outputs": [],
   "source": [
    "sns.lmplot(x=\"age\", y=\"happiness\", hue=\"locality\", data=data);"
   ]
  },
  {
   "cell_type": "markdown",
   "id": "116bd2a0-dd2e-43dc-91d2-618bfd093c03",
   "metadata": {
    "tags": []
   },
   "source": [
    "# Section 2: Stats with Dataframe\n",
    "\n",
    "- mean, mode, median, std, etc\n",
    "- correlation"
   ]
  },
  {
   "cell_type": "code",
   "execution_count": null,
   "id": "b1dba5a6-27a9-402e-bd57-78b4e26fef4d",
   "metadata": {},
   "outputs": [],
   "source": [
    "# Calculate the average age of the participant\n",
    "data[\"age\"].mean()"
   ]
  },
  {
   "cell_type": "code",
   "execution_count": null,
   "id": "9e133e40-797d-462e-bd91-14bab101d469",
   "metadata": {},
   "outputs": [],
   "source": [
    "# Calculate the median age of the participant\n",
    "data[\"age\"].median()"
   ]
  },
  {
   "cell_type": "code",
   "execution_count": null,
   "id": "f9506d81-9810-4c73-a7c2-de3978f8587e",
   "metadata": {},
   "outputs": [],
   "source": [
    "# What's the most common age among participants?\n",
    "data[\"age\"].mode()"
   ]
  },
  {
   "cell_type": "code",
   "execution_count": null,
   "id": "3271c370-e14b-41d5-bc81-55f8f76c494d",
   "metadata": {},
   "outputs": [],
   "source": [
    "# what's the average age of female and male participants?\n",
    "grouped_data = data.groupby(by=[\"gender\"]).mean()\n",
    "grouped_data[\"age\"]"
   ]
  },
  {
   "cell_type": "markdown",
   "id": "10994577-4a93-4dc3-b8b3-8f6699a7bbf9",
   "metadata": {},
   "source": [
    "### Try Yourself: Find out the average loneliness rating of participants grouped by their gender and locality"
   ]
  },
  {
   "cell_type": "code",
   "execution_count": null,
   "id": "9abf60ef-706e-4bb1-bcfe-95f588a46d64",
   "metadata": {},
   "outputs": [],
   "source": [
    "loneliness_mean_grouped = data.groupby(by=[\"gender\", \"locality\"]).mean()\n",
    "loneliness_mean_grouped[\"loneliness\"]"
   ]
  },
  {
   "cell_type": "markdown",
   "id": "187f9c21-97a0-459c-bbc7-2aebceb76497",
   "metadata": {},
   "source": [
    "## Statistical tests"
   ]
  },
  {
   "cell_type": "code",
   "execution_count": null,
   "id": "4096e8ad-43cf-4551-b86a-b3df4502469c",
   "metadata": {},
   "outputs": [],
   "source": [
    "#### inferential stats ####\n",
    "# are there any relationship between these two variables?\n",
    "# let's check the value for pearson's r (assuming we're treating the variables as continuous number\n",
    "\n",
    "pearson = data[\"happiness\"].corr(data[\"energy-levels\"])\n",
    "pearson"
   ]
  },
  {
   "cell_type": "code",
   "execution_count": null,
   "id": "bd0827d4-8001-4cb8-9952-1da0b54398a3",
   "metadata": {},
   "outputs": [],
   "source": [
    "# the data has some NaN values, let's replace them with 0\n",
    "data[\"happiness\"].fillna(0, inplace=True)\n",
    "data[\"energy-levels\"].fillna(0, inplace=True)"
   ]
  },
  {
   "cell_type": "code",
   "execution_count": null,
   "id": "4a05fe60-1fcf-4be0-9970-1e79084c432e",
   "metadata": {},
   "outputs": [],
   "source": [
    "# if we're treating the data as ordinal value, we can use spearman's rho or kendall's tau\n",
    "spearman = stats.spearmanr(data[\"happiness\"], data[\"energy-levels\"])\n",
    "spearman"
   ]
  },
  {
   "cell_type": "code",
   "execution_count": null,
   "id": "c06988c6-5128-4349-b022-06ffc5f8db06",
   "metadata": {},
   "outputs": [],
   "source": [
    "# we can also quickly calculate the correlation coefficient between numerical variables\n",
    "# and keep them in a matrix\n",
    "corr_matrix = data.corr()\n",
    "corr_matrix"
   ]
  },
  {
   "cell_type": "code",
   "execution_count": null,
   "id": "0d186453-f13a-4ca7-81c7-ac626ec0a4b2",
   "metadata": {
    "tags": []
   },
   "outputs": [],
   "source": [
    "# show the matrix in a heatmap using seaborn\n",
    "sns.heatmap(corr_matrix)"
   ]
  }
 ],
 "metadata": {
  "kernelspec": {
   "display_name": "Python 3 (ipykernel)",
   "language": "python",
   "name": "python3"
  },
  "language_info": {
   "codemirror_mode": {
    "name": "ipython",
    "version": 3
   },
   "file_extension": ".py",
   "mimetype": "text/x-python",
   "name": "python",
   "nbconvert_exporter": "python",
   "pygments_lexer": "ipython3",
   "version": "3.9.7"
  }
 },
 "nbformat": 4,
 "nbformat_minor": 5
}
